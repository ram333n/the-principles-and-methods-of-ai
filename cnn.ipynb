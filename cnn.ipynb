{
 "cells": [
  {
   "cell_type": "code",
   "metadata": {
    "ExecuteTime": {
     "end_time": "2024-11-17T13:03:10.794876Z",
     "start_time": "2024-11-17T13:03:10.775875Z"
    }
   },
   "source": [
    "import cv2\n",
    "import os\n",
    "import pandas as pd\n",
    "import numpy as np\n",
    "import matplotlib.pyplot as plt\n",
    "from sklearn.metrics import classification_report, accuracy_score, precision_score, recall_score, \\\n",
    "    f1_score\n",
    "from sklearn.preprocessing import LabelEncoder\n",
    "from sklearn.model_selection import train_test_split, StratifiedKFold\n",
    "import tensorflow as tf\n",
    "from tensorflow.keras import models, layers\n",
    "import seaborn as sns"
   ],
   "outputs": [],
   "execution_count": 83
  },
  {
   "cell_type": "code",
   "metadata": {
    "collapsed": false,
    "jupyter": {
     "outputs_hidden": false
    },
    "ExecuteTime": {
     "end_time": "2024-11-17T12:54:08.982494Z",
     "start_time": "2024-11-17T12:54:08.956004Z"
    }
   },
   "source": [
    "df = pd.read_csv('dataset.csv')\n",
    "df.head(10)"
   ],
   "outputs": [
    {
     "data": {
      "text/plain": [
       "       filename                     label\n",
       "0   Image_1.jpg          SOUTHERN DOGFACE\n",
       "1   Image_2.jpg                    ADONIS\n",
       "2   Image_3.jpg            BROWN SIPROETA\n",
       "3   Image_4.jpg                   MONARCH\n",
       "4   Image_5.jpg  GREEN CELLED CATTLEHEART\n",
       "5   Image_6.jpg           CAIRNS BIRDWING\n",
       "6   Image_7.jpg  GREEN CELLED CATTLEHEART\n",
       "7   Image_8.jpg      EASTERN DAPPLE WHITE\n",
       "8   Image_9.jpg            BROWN SIPROETA\n",
       "9  Image_10.jpg               RED POSTMAN"
      ],
      "text/html": [
       "<div>\n",
       "<style scoped>\n",
       "    .dataframe tbody tr th:only-of-type {\n",
       "        vertical-align: middle;\n",
       "    }\n",
       "\n",
       "    .dataframe tbody tr th {\n",
       "        vertical-align: top;\n",
       "    }\n",
       "\n",
       "    .dataframe thead th {\n",
       "        text-align: right;\n",
       "    }\n",
       "</style>\n",
       "<table border=\"1\" class=\"dataframe\">\n",
       "  <thead>\n",
       "    <tr style=\"text-align: right;\">\n",
       "      <th></th>\n",
       "      <th>filename</th>\n",
       "      <th>label</th>\n",
       "    </tr>\n",
       "  </thead>\n",
       "  <tbody>\n",
       "    <tr>\n",
       "      <th>0</th>\n",
       "      <td>Image_1.jpg</td>\n",
       "      <td>SOUTHERN DOGFACE</td>\n",
       "    </tr>\n",
       "    <tr>\n",
       "      <th>1</th>\n",
       "      <td>Image_2.jpg</td>\n",
       "      <td>ADONIS</td>\n",
       "    </tr>\n",
       "    <tr>\n",
       "      <th>2</th>\n",
       "      <td>Image_3.jpg</td>\n",
       "      <td>BROWN SIPROETA</td>\n",
       "    </tr>\n",
       "    <tr>\n",
       "      <th>3</th>\n",
       "      <td>Image_4.jpg</td>\n",
       "      <td>MONARCH</td>\n",
       "    </tr>\n",
       "    <tr>\n",
       "      <th>4</th>\n",
       "      <td>Image_5.jpg</td>\n",
       "      <td>GREEN CELLED CATTLEHEART</td>\n",
       "    </tr>\n",
       "    <tr>\n",
       "      <th>5</th>\n",
       "      <td>Image_6.jpg</td>\n",
       "      <td>CAIRNS BIRDWING</td>\n",
       "    </tr>\n",
       "    <tr>\n",
       "      <th>6</th>\n",
       "      <td>Image_7.jpg</td>\n",
       "      <td>GREEN CELLED CATTLEHEART</td>\n",
       "    </tr>\n",
       "    <tr>\n",
       "      <th>7</th>\n",
       "      <td>Image_8.jpg</td>\n",
       "      <td>EASTERN DAPPLE WHITE</td>\n",
       "    </tr>\n",
       "    <tr>\n",
       "      <th>8</th>\n",
       "      <td>Image_9.jpg</td>\n",
       "      <td>BROWN SIPROETA</td>\n",
       "    </tr>\n",
       "    <tr>\n",
       "      <th>9</th>\n",
       "      <td>Image_10.jpg</td>\n",
       "      <td>RED POSTMAN</td>\n",
       "    </tr>\n",
       "  </tbody>\n",
       "</table>\n",
       "</div>"
      ]
     },
     "execution_count": 64,
     "metadata": {},
     "output_type": "execute_result"
    }
   ],
   "execution_count": 64
  },
  {
   "cell_type": "code",
   "source": [
    "CLASSES_COUNT = 7\n",
    "classes_list = df['label'].value_counts()[:CLASSES_COUNT].index.tolist()\n",
    "classes_list"
   ],
   "metadata": {
    "collapsed": false,
    "ExecuteTime": {
     "end_time": "2024-11-17T12:54:09.059987Z",
     "start_time": "2024-11-17T12:54:09.045988Z"
    }
   },
   "outputs": [
    {
     "data": {
      "text/plain": [
       "['MOURNING CLOAK',\n",
       " 'SLEEPY ORANGE',\n",
       " 'ATALA',\n",
       " 'BROWN SIPROETA',\n",
       " 'CRECENT',\n",
       " 'SCARCE SWALLOW',\n",
       " 'BANDED ORANGE HELICONIAN']"
      ]
     },
     "execution_count": 65,
     "metadata": {},
     "output_type": "execute_result"
    }
   ],
   "execution_count": 65
  },
  {
   "cell_type": "code",
   "metadata": {
    "collapsed": false,
    "jupyter": {
     "outputs_hidden": false
    },
    "ExecuteTime": {
     "end_time": "2024-11-17T12:54:09.136971Z",
     "start_time": "2024-11-17T12:54:09.119432Z"
    }
   },
   "source": [
    "df = df[df['label'].isin(classes_list)]\n",
    "len(df)"
   ],
   "outputs": [
    {
     "data": {
      "text/plain": [
       "728"
      ]
     },
     "execution_count": 66,
     "metadata": {},
     "output_type": "execute_result"
    }
   ],
   "execution_count": 66
  },
  {
   "cell_type": "code",
   "metadata": {
    "collapsed": false,
    "jupyter": {
     "outputs_hidden": false
    },
    "ExecuteTime": {
     "end_time": "2024-11-17T12:54:09.199015Z",
     "start_time": "2024-11-17T12:54:09.183888Z"
    }
   },
   "source": [
    "df['label'].nunique()"
   ],
   "outputs": [
    {
     "data": {
      "text/plain": [
       "7"
      ]
     },
     "execution_count": 67,
     "metadata": {},
     "output_type": "execute_result"
    }
   ],
   "execution_count": 67
  },
  {
   "cell_type": "code",
   "metadata": {
    "collapsed": false,
    "jupyter": {
     "outputs_hidden": false
    },
    "ExecuteTime": {
     "end_time": "2024-11-17T12:54:09.276498Z",
     "start_time": "2024-11-17T12:54:09.262389Z"
    }
   },
   "source": [
    "samples_cnt_by_label = df['label'].value_counts()\n",
    "samples_cnt_by_label"
   ],
   "outputs": [
    {
     "data": {
      "text/plain": [
       "label\n",
       "MOURNING CLOAK              131\n",
       "SLEEPY ORANGE               107\n",
       "ATALA                       100\n",
       "BROWN SIPROETA               99\n",
       "SCARCE SWALLOW               97\n",
       "CRECENT                      97\n",
       "BANDED ORANGE HELICONIAN     97\n",
       "Name: count, dtype: int64"
      ]
     },
     "execution_count": 68,
     "metadata": {},
     "output_type": "execute_result"
    }
   ],
   "execution_count": 68
  },
  {
   "cell_type": "code",
   "metadata": {
    "collapsed": false,
    "jupyter": {
     "outputs_hidden": false
    },
    "ExecuteTime": {
     "end_time": "2024-11-17T12:54:09.431460Z",
     "start_time": "2024-11-17T12:54:09.309388Z"
    }
   },
   "source": [
    "samples_cnt_by_label.plot.bar(x='label', y='count', figsize=(5, 5), title='Samples distribution by label')"
   ],
   "outputs": [
    {
     "data": {
      "text/plain": [
       "<Axes: title={'center': 'Samples distribution by label'}, xlabel='label'>"
      ]
     },
     "execution_count": 69,
     "metadata": {},
     "output_type": "execute_result"
    },
    {
     "data": {
      "text/plain": [
       "<Figure size 500x500 with 1 Axes>"
      ],
      "image/png": "[encoded data removed]"
     },
     "metadata": {},
     "output_type": "display_data"
    }
   ],
   "execution_count": 69
  },
  {
   "cell_type": "code",
   "source": [
    "def load_images(input_df, base_path=os.path.join('.', 'images')):\n",
    "    images = []\n",
    "    labels = []\n",
    "\n",
    "    for i in range(len(input_df)):\n",
    "        df_row = df.iloc[i]\n",
    "        image_path = os.path.join(base_path, df_row['filename'])\n",
    "        src_image = cv2.imread(image_path)\n",
    "        images.append(cv2.cvtColor(src_image, cv2.COLOR_BGR2RGB))\n",
    "        labels.append(df_row['label'])\n",
    "\n",
    "    return np.array(images), np.array(labels)\n",
    "\n",
    "\n",
    "images, labels = load_images(df)\n",
    "print(images.shape)"
   ],
   "metadata": {
    "collapsed": false,
    "ExecuteTime": {
     "end_time": "2024-11-17T12:54:10.050452Z",
     "start_time": "2024-11-17T12:54:09.463435Z"
    }
   },
   "outputs": [
    {
     "name": "stdout",
     "output_type": "stream",
     "text": [
      "(728, 224, 224, 3)\n"
     ]
    }
   ],
   "execution_count": 70
  },
  {
   "cell_type": "code",
   "source": [
    "X = images\n",
    "Y = labels\n",
    "\n",
    "label_encoder = LabelEncoder()\n",
    "Y = label_encoder.fit_transform(Y)\n",
    "\n",
    "X_train, X_test, Y_train, Y_test = train_test_split(X, Y, train_size=0.8, random_state=42, stratify=Y)\n",
    "\n",
    "print(f\"Train dataset size={X_train.shape[0]}\")\n",
    "print(f\"Test dataset size={X_test.shape[0]}\")"
   ],
   "metadata": {
    "collapsed": false,
    "ExecuteTime": {
     "end_time": "2024-11-17T12:54:10.189946Z",
     "start_time": "2024-11-17T12:54:10.063387Z"
    }
   },
   "outputs": [
    {
     "name": "stdout",
     "output_type": "stream",
     "text": [
      "Train dataset size=582\n",
      "Test dataset size=146\n"
     ]
    }
   ],
   "execution_count": 71
  },
  {
   "cell_type": "code",
   "source": [
    "X_train, X_test = X_train / 255.0, X_test / 255.0"
   ],
   "metadata": {
    "collapsed": false,
    "ExecuteTime": {
     "end_time": "2024-11-17T12:54:10.530916Z",
     "start_time": "2024-11-17T12:54:10.206890Z"
    }
   },
   "outputs": [],
   "execution_count": 72
  },
  {
   "cell_type": "code",
   "source": [
    "X_train[0].shape # sizes of all images are the same"
   ],
   "metadata": {
    "collapsed": false,
    "ExecuteTime": {
     "end_time": "2024-11-17T12:54:10.577566Z",
     "start_time": "2024-11-17T12:54:10.563420Z"
    }
   },
   "outputs": [
    {
     "data": {
      "text/plain": [
       "(224, 224, 3)"
      ]
     },
     "execution_count": 73,
     "metadata": {},
     "output_type": "execute_result"
    }
   ],
   "execution_count": 73
  },
  {
   "cell_type": "code",
   "source": [
    "def build_model():\n",
    "    result_model = models.Sequential()\n",
    "    result_model.add(layers.Conv2D(32, (3, 3), input_shape=(224, 224, 3), activation='relu'))\n",
    "    result_model.add(layers.MaxPooling2D((3, 3)))\n",
    "    result_model.add(layers.Conv2D(64, (3, 3), activation='relu'))\n",
    "    result_model.add(layers.MaxPooling2D((3, 3)))\n",
    "    result_model.add(layers.Conv2D(64, (3, 3), activation='relu'))\n",
    "    result_model.add(layers.MaxPooling2D((3, 3)))\n",
    "    result_model.add(layers.Flatten())\n",
    "    result_model.add(layers.Dense(64, activation='relu'))\n",
    "    result_model.add(layers.Dense(CLASSES_COUNT, activation='softmax'))\n",
    "    \n",
    "    return result_model\n",
    "\n",
    "\n",
    "model = build_model()"
   ],
   "metadata": {
    "collapsed": false,
    "ExecuteTime": {
     "end_time": "2024-11-17T12:54:10.670432Z",
     "start_time": "2024-11-17T12:54:10.610005Z"
    }
   },
   "outputs": [
    {
     "name": "stderr",
     "output_type": "stream",
     "text": [
      "C:\\Dev_software\\python\\lib\\site-packages\\keras\\src\\layers\\convolutional\\base_conv.py:107: UserWarning: Do not pass an `input_shape`/`input_dim` argument to a layer. When using Sequential models, prefer using an `Input(shape)` object as the first layer in the model instead.\n",
      "  super().__init__(activity_regularizer=activity_regularizer, **kwargs)\n"
     ]
    }
   ],
   "execution_count": 74
  },
  {
   "cell_type": "code",
   "source": [
    "model.summary()"
   ],
   "metadata": {
    "collapsed": false,
    "ExecuteTime": {
     "end_time": "2024-11-17T12:54:10.748374Z",
     "start_time": "2024-11-17T12:54:10.730227Z"
    }
   },
   "outputs": [
    {
     "data": {
      "text/plain": [
       "\u001B[1mModel: \"sequential_3\"\u001B[0m\n"
      ],
      "text/html": [
       "<pre style=\"white-space:pre;overflow-x:auto;line-height:normal;font-family:Menlo,'DejaVu Sans Mono',consolas,'Courier New',monospace\"><span style=\"font-weight: bold\">Model: \"sequential_3\"</span>\n",
       "</pre>\n"
      ]
     },
     "metadata": {},
     "output_type": "display_data"
    },
    {
     "data": {
      "text/plain": [
       "┏━━━━━━━━━━━━━━━━━━━━━━━━━━━━━━━━━┳━━━━━━━━━━━━━━━━━━━━━━━━┳━━━━━━━━━━━━━━━┓\n",
       "┃\u001B[1m \u001B[0m\u001B[1mLayer (type)                   \u001B[0m\u001B[1m \u001B[0m┃\u001B[1m \u001B[0m\u001B[1mOutput Shape          \u001B[0m\u001B[1m \u001B[0m┃\u001B[1m \u001B[0m\u001B[1m      Param #\u001B[0m\u001B[1m \u001B[0m┃\n",
       "┡━━━━━━━━━━━━━━━━━━━━━━━━━━━━━━━━━╇━━━━━━━━━━━━━━━━━━━━━━━━╇━━━━━━━━━━━━━━━┩\n",
       "│ conv2d_9 (\u001B[38;5;33mConv2D\u001B[0m)               │ (\u001B[38;5;45mNone\u001B[0m, \u001B[38;5;34m222\u001B[0m, \u001B[38;5;34m222\u001B[0m, \u001B[38;5;34m32\u001B[0m)   │           \u001B[38;5;34m896\u001B[0m │\n",
       "├─────────────────────────────────┼────────────────────────┼───────────────┤\n",
       "│ max_pooling2d_9 (\u001B[38;5;33mMaxPooling2D\u001B[0m)  │ (\u001B[38;5;45mNone\u001B[0m, \u001B[38;5;34m74\u001B[0m, \u001B[38;5;34m74\u001B[0m, \u001B[38;5;34m32\u001B[0m)     │             \u001B[38;5;34m0\u001B[0m │\n",
       "├─────────────────────────────────┼────────────────────────┼───────────────┤\n",
       "│ conv2d_10 (\u001B[38;5;33mConv2D\u001B[0m)              │ (\u001B[38;5;45mNone\u001B[0m, \u001B[38;5;34m72\u001B[0m, \u001B[38;5;34m72\u001B[0m, \u001B[38;5;34m64\u001B[0m)     │        \u001B[38;5;34m18,496\u001B[0m │\n",
       "├─────────────────────────────────┼────────────────────────┼───────────────┤\n",
       "│ max_pooling2d_10 (\u001B[38;5;33mMaxPooling2D\u001B[0m) │ (\u001B[38;5;45mNone\u001B[0m, \u001B[38;5;34m24\u001B[0m, \u001B[38;5;34m24\u001B[0m, \u001B[38;5;34m64\u001B[0m)     │             \u001B[38;5;34m0\u001B[0m │\n",
       "├─────────────────────────────────┼────────────────────────┼───────────────┤\n",
       "│ conv2d_11 (\u001B[38;5;33mConv2D\u001B[0m)              │ (\u001B[38;5;45mNone\u001B[0m, \u001B[38;5;34m22\u001B[0m, \u001B[38;5;34m22\u001B[0m, \u001B[38;5;34m64\u001B[0m)     │        \u001B[38;5;34m36,928\u001B[0m │\n",
       "├─────────────────────────────────┼────────────────────────┼───────────────┤\n",
       "│ max_pooling2d_11 (\u001B[38;5;33mMaxPooling2D\u001B[0m) │ (\u001B[38;5;45mNone\u001B[0m, \u001B[38;5;34m7\u001B[0m, \u001B[38;5;34m7\u001B[0m, \u001B[38;5;34m64\u001B[0m)       │             \u001B[38;5;34m0\u001B[0m │\n",
       "├─────────────────────────────────┼────────────────────────┼───────────────┤\n",
       "│ flatten_3 (\u001B[38;5;33mFlatten\u001B[0m)             │ (\u001B[38;5;45mNone\u001B[0m, \u001B[38;5;34m3136\u001B[0m)           │             \u001B[38;5;34m0\u001B[0m │\n",
       "├─────────────────────────────────┼────────────────────────┼───────────────┤\n",
       "│ dense_6 (\u001B[38;5;33mDense\u001B[0m)                 │ (\u001B[38;5;45mNone\u001B[0m, \u001B[38;5;34m64\u001B[0m)             │       \u001B[38;5;34m200,768\u001B[0m │\n",
       "├─────────────────────────────────┼────────────────────────┼───────────────┤\n",
       "│ dense_7 (\u001B[38;5;33mDense\u001B[0m)                 │ (\u001B[38;5;45mNone\u001B[0m, \u001B[38;5;34m7\u001B[0m)              │           \u001B[38;5;34m455\u001B[0m │\n",
       "└─────────────────────────────────┴────────────────────────┴───────────────┘\n"
      ],
      "text/html": [
       "<pre style=\"white-space:pre;overflow-x:auto;line-height:normal;font-family:Menlo,'DejaVu Sans Mono',consolas,'Courier New',monospace\">┏━━━━━━━━━━━━━━━━━━━━━━━━━━━━━━━━━┳━━━━━━━━━━━━━━━━━━━━━━━━┳━━━━━━━━━━━━━━━┓\n",
       "┃<span style=\"font-weight: bold\"> Layer (type)                    </span>┃<span style=\"font-weight: bold\"> Output Shape           </span>┃<span style=\"font-weight: bold\">       Param # </span>┃\n",
       "┡━━━━━━━━━━━━━━━━━━━━━━━━━━━━━━━━━╇━━━━━━━━━━━━━━━━━━━━━━━━╇━━━━━━━━━━━━━━━┩\n",
       "│ conv2d_9 (<span style=\"color: #0087ff; text-decoration-color: #0087ff\">Conv2D</span>)               │ (<span style=\"color: #00d7ff; text-decoration-color: #00d7ff\">None</span>, <span style=\"color: #00af00; text-decoration-color: #00af00\">222</span>, <span style=\"color: #00af00; text-decoration-color: #00af00\">222</span>, <span style=\"color: #00af00; text-decoration-color: #00af00\">32</span>)   │           <span style=\"color: #00af00; text-decoration-color: #00af00\">896</span> │\n",
       "├─────────────────────────────────┼────────────────────────┼───────────────┤\n",
       "│ max_pooling2d_9 (<span style=\"color: #0087ff; text-decoration-color: #0087ff\">MaxPooling2D</span>)  │ (<span style=\"color: #00d7ff; text-decoration-color: #00d7ff\">None</span>, <span style=\"color: #00af00; text-decoration-color: #00af00\">74</span>, <span style=\"color: #00af00; text-decoration-color: #00af00\">74</span>, <span style=\"color: #00af00; text-decoration-color: #00af00\">32</span>)     │             <span style=\"color: #00af00; text-decoration-color: #00af00\">0</span> │\n",
       "├─────────────────────────────────┼────────────────────────┼───────────────┤\n",
       "│ conv2d_10 (<span style=\"color: #0087ff; text-decoration-color: #0087ff\">Conv2D</span>)              │ (<span style=\"color: #00d7ff; text-decoration-color: #00d7ff\">None</span>, <span style=\"color: #00af00; text-decoration-color: #00af00\">72</span>, <span style=\"color: #00af00; text-decoration-color: #00af00\">72</span>, <span style=\"color: #00af00; text-decoration-color: #00af00\">64</span>)     │        <span style=\"color: #00af00; text-decoration-color: #00af00\">18,496</span> │\n",
       "├─────────────────────────────────┼────────────────────────┼───────────────┤\n",
       "│ max_pooling2d_10 (<span style=\"color: #0087ff; text-decoration-color: #0087ff\">MaxPooling2D</span>) │ (<span style=\"color: #00d7ff; text-decoration-color: #00d7ff\">None</span>, <span style=\"color: #00af00; text-decoration-color: #00af00\">24</span>, <span style=\"color: #00af00; text-decoration-color: #00af00\">24</span>, <span style=\"color: #00af00; text-decoration-color: #00af00\">64</span>)     │             <span style=\"color: #00af00; text-decoration-color: #00af00\">0</span> │\n",
       "├─────────────────────────────────┼────────────────────────┼───────────────┤\n",
       "│ conv2d_11 (<span style=\"color: #0087ff; text-decoration-color: #0087ff\">Conv2D</span>)              │ (<span style=\"color: #00d7ff; text-decoration-color: #00d7ff\">None</span>, <span style=\"color: #00af00; text-decoration-color: #00af00\">22</span>, <span style=\"color: #00af00; text-decoration-color: #00af00\">22</span>, <span style=\"color: #00af00; text-decoration-color: #00af00\">64</span>)     │        <span style=\"color: #00af00; text-decoration-color: #00af00\">36,928</span> │\n",
       "├─────────────────────────────────┼────────────────────────┼───────────────┤\n",
       "│ max_pooling2d_11 (<span style=\"color: #0087ff; text-decoration-color: #0087ff\">MaxPooling2D</span>) │ (<span style=\"color: #00d7ff; text-decoration-color: #00d7ff\">None</span>, <span style=\"color: #00af00; text-decoration-color: #00af00\">7</span>, <span style=\"color: #00af00; text-decoration-color: #00af00\">7</span>, <span style=\"color: #00af00; text-decoration-color: #00af00\">64</span>)       │             <span style=\"color: #00af00; text-decoration-color: #00af00\">0</span> │\n",
       "├─────────────────────────────────┼────────────────────────┼───────────────┤\n",
       "│ flatten_3 (<span style=\"color: #0087ff; text-decoration-color: #0087ff\">Flatten</span>)             │ (<span style=\"color: #00d7ff; text-decoration-color: #00d7ff\">None</span>, <span style=\"color: #00af00; text-decoration-color: #00af00\">3136</span>)           │             <span style=\"color: #00af00; text-decoration-color: #00af00\">0</span> │\n",
       "├─────────────────────────────────┼────────────────────────┼───────────────┤\n",
       "│ dense_6 (<span style=\"color: #0087ff; text-decoration-color: #0087ff\">Dense</span>)                 │ (<span style=\"color: #00d7ff; text-decoration-color: #00d7ff\">None</span>, <span style=\"color: #00af00; text-decoration-color: #00af00\">64</span>)             │       <span style=\"color: #00af00; text-decoration-color: #00af00\">200,768</span> │\n",
       "├─────────────────────────────────┼────────────────────────┼───────────────┤\n",
       "│ dense_7 (<span style=\"color: #0087ff; text-decoration-color: #0087ff\">Dense</span>)                 │ (<span style=\"color: #00d7ff; text-decoration-color: #00d7ff\">None</span>, <span style=\"color: #00af00; text-decoration-color: #00af00\">7</span>)              │           <span style=\"color: #00af00; text-decoration-color: #00af00\">455</span> │\n",
       "└─────────────────────────────────┴────────────────────────┴───────────────┘\n",
       "</pre>\n"
      ]
     },
     "metadata": {},
     "output_type": "display_data"
    },
    {
     "data": {
      "text/plain": [
       "\u001B[1m Total params: \u001B[0m\u001B[38;5;34m257,543\u001B[0m (1006.03 KB)\n"
      ],
      "text/html": [
       "<pre style=\"white-space:pre;overflow-x:auto;line-height:normal;font-family:Menlo,'DejaVu Sans Mono',consolas,'Courier New',monospace\"><span style=\"font-weight: bold\"> Total params: </span><span style=\"color: #00af00; text-decoration-color: #00af00\">257,543</span> (1006.03 KB)\n",
       "</pre>\n"
      ]
     },
     "metadata": {},
     "output_type": "display_data"
    },
    {
     "data": {
      "text/plain": [
       "\u001B[1m Trainable params: \u001B[0m\u001B[38;5;34m257,543\u001B[0m (1006.03 KB)\n"
      ],
      "text/html": [
       "<pre style=\"white-space:pre;overflow-x:auto;line-height:normal;font-family:Menlo,'DejaVu Sans Mono',consolas,'Courier New',monospace\"><span style=\"font-weight: bold\"> Trainable params: </span><span style=\"color: #00af00; text-decoration-color: #00af00\">257,543</span> (1006.03 KB)\n",
       "</pre>\n"
      ]
     },
     "metadata": {},
     "output_type": "display_data"
    },
    {
     "data": {
      "text/plain": [
       "\u001B[1m Non-trainable params: \u001B[0m\u001B[38;5;34m0\u001B[0m (0.00 B)\n"
      ],
      "text/html": [
       "<pre style=\"white-space:pre;overflow-x:auto;line-height:normal;font-family:Menlo,'DejaVu Sans Mono',consolas,'Courier New',monospace\"><span style=\"font-weight: bold\"> Non-trainable params: </span><span style=\"color: #00af00; text-decoration-color: #00af00\">0</span> (0.00 B)\n",
       "</pre>\n"
      ]
     },
     "metadata": {},
     "output_type": "display_data"
    }
   ],
   "execution_count": 75
  },
  {
   "metadata": {
    "collapsed": false,
    "ExecuteTime": {
     "end_time": "2024-11-17T13:27:18.672306Z",
     "start_time": "2024-11-17T13:26:22.311251Z"
    }
   },
   "cell_type": "code",
   "source": [
    "def compile_and_fit_model(model, train_data, validation_data):\n",
    "    model.compile(\n",
    "        optimizer='adam',\n",
    "        loss=tf.keras.losses.SparseCategoricalCrossentropy(from_logits=True),\n",
    "        metrics=['accuracy']\n",
    "    )\n",
    "    \n",
    "    history = model.fit(\n",
    "        X_train,\n",
    "        Y_train,\n",
    "        epochs=15,\n",
    "        validation_data=validation_data\n",
    "    )\n",
    "    \n",
    "    return history\n",
    "\n",
    "history = compile_and_fit_model(model, (X_train, Y_train), (X_test, Y_test))"
   ],
   "outputs": [
    {
     "name": "stdout",
     "output_type": "stream",
     "text": [
      "Epoch 1/15\n"
     ]
    },
    {
     "name": "stderr",
     "output_type": "stream",
     "text": [
      "C:\\Dev_software\\python\\lib\\site-packages\\keras\\src\\backend\\tensorflow\\nn.py:635: UserWarning: \"`sparse_categorical_crossentropy` received `from_logits=True`, but the `output` argument was produced by a Softmax activation and thus does not represent logits. Was this intended?\n",
      "  output, from_logits = _get_logits(\n"
     ]
    },
    {
     "name": "stdout",
     "output_type": "stream",
     "text": [
      "\u001B[1m19/19\u001B[0m \u001B[32m━━━━━━━━━━━━━━━━━━━━\u001B[0m\u001B[37m\u001B[0m \u001B[1m5s\u001B[0m 217ms/step - accuracy: 0.9765 - loss: 0.0550 - val_accuracy: 0.8493 - val_loss: 0.8085\n",
      "Epoch 2/15\n",
      "\u001B[1m19/19\u001B[0m \u001B[32m━━━━━━━━━━━━━━━━━━━━\u001B[0m\u001B[37m\u001B[0m \u001B[1m4s\u001B[0m 185ms/step - accuracy: 0.9843 - loss: 0.0458 - val_accuracy: 0.8493 - val_loss: 0.5727\n",
      "Epoch 3/15\n",
      "\u001B[1m19/19\u001B[0m \u001B[32m━━━━━━━━━━━━━━━━━━━━\u001B[0m\u001B[37m\u001B[0m \u001B[1m4s\u001B[0m 187ms/step - accuracy: 0.9851 - loss: 0.0376 - val_accuracy: 0.9315 - val_loss: 0.4052\n",
      "Epoch 4/15\n",
      "\u001B[1m19/19\u001B[0m \u001B[32m━━━━━━━━━━━━━━━━━━━━\u001B[0m\u001B[37m\u001B[0m \u001B[1m4s\u001B[0m 183ms/step - accuracy: 1.0000 - loss: 0.0051 - val_accuracy: 0.9110 - val_loss: 0.3377\n",
      "Epoch 5/15\n",
      "\u001B[1m19/19\u001B[0m \u001B[32m━━━━━━━━━━━━━━━━━━━━\u001B[0m\u001B[37m\u001B[0m \u001B[1m4s\u001B[0m 186ms/step - accuracy: 1.0000 - loss: 5.1703e-04 - val_accuracy: 0.9247 - val_loss: 0.3357\n",
      "Epoch 6/15\n",
      "\u001B[1m19/19\u001B[0m \u001B[32m━━━━━━━━━━━━━━━━━━━━\u001B[0m\u001B[37m\u001B[0m \u001B[1m4s\u001B[0m 184ms/step - accuracy: 1.0000 - loss: 3.9224e-04 - val_accuracy: 0.9315 - val_loss: 0.3633\n",
      "Epoch 7/15\n",
      "\u001B[1m19/19\u001B[0m \u001B[32m━━━━━━━━━━━━━━━━━━━━\u001B[0m\u001B[37m\u001B[0m \u001B[1m4s\u001B[0m 184ms/step - accuracy: 1.0000 - loss: 1.8344e-04 - val_accuracy: 0.9315 - val_loss: 0.3666\n",
      "Epoch 8/15\n",
      "\u001B[1m19/19\u001B[0m \u001B[32m━━━━━━━━━━━━━━━━━━━━\u001B[0m\u001B[37m\u001B[0m \u001B[1m4s\u001B[0m 189ms/step - accuracy: 1.0000 - loss: 1.6832e-04 - val_accuracy: 0.9384 - val_loss: 0.3617\n",
      "Epoch 9/15\n",
      "\u001B[1m19/19\u001B[0m \u001B[32m━━━━━━━━━━━━━━━━━━━━\u001B[0m\u001B[37m\u001B[0m \u001B[1m4s\u001B[0m 192ms/step - accuracy: 1.0000 - loss: 1.6344e-04 - val_accuracy: 0.9384 - val_loss: 0.3606\n",
      "Epoch 10/15\n",
      "\u001B[1m19/19\u001B[0m \u001B[32m━━━━━━━━━━━━━━━━━━━━\u001B[0m\u001B[37m\u001B[0m \u001B[1m4s\u001B[0m 188ms/step - accuracy: 1.0000 - loss: 1.5896e-04 - val_accuracy: 0.9384 - val_loss: 0.3593\n",
      "Epoch 11/15\n",
      "\u001B[1m19/19\u001B[0m \u001B[32m━━━━━━━━━━━━━━━━━━━━\u001B[0m\u001B[37m\u001B[0m \u001B[1m4s\u001B[0m 193ms/step - accuracy: 1.0000 - loss: 1.1813e-04 - val_accuracy: 0.9384 - val_loss: 0.3620\n",
      "Epoch 12/15\n",
      "\u001B[1m19/19\u001B[0m \u001B[32m━━━━━━━━━━━━━━━━━━━━\u001B[0m\u001B[37m\u001B[0m \u001B[1m4s\u001B[0m 192ms/step - accuracy: 1.0000 - loss: 1.0399e-04 - val_accuracy: 0.9384 - val_loss: 0.3631\n",
      "Epoch 13/15\n",
      "\u001B[1m19/19\u001B[0m \u001B[32m━━━━━━━━━━━━━━━━━━━━\u001B[0m\u001B[37m\u001B[0m \u001B[1m4s\u001B[0m 193ms/step - accuracy: 1.0000 - loss: 1.1554e-04 - val_accuracy: 0.9384 - val_loss: 0.3672\n",
      "Epoch 14/15\n",
      "\u001B[1m19/19\u001B[0m \u001B[32m━━━━━━━━━━━━━━━━━━━━\u001B[0m\u001B[37m\u001B[0m \u001B[1m4s\u001B[0m 195ms/step - accuracy: 1.0000 - loss: 1.0322e-04 - val_accuracy: 0.9384 - val_loss: 0.3702\n",
      "Epoch 15/15\n",
      "\u001B[1m19/19\u001B[0m \u001B[32m━━━━━━━━━━━━━━━━━━━━\u001B[0m\u001B[37m\u001B[0m \u001B[1m4s\u001B[0m 192ms/step - accuracy: 1.0000 - loss: 8.5376e-05 - val_accuracy: 0.9384 - val_loss: 0.3729\n"
     ]
    }
   ],
   "execution_count": 87
  },
  {
   "cell_type": "code",
   "source": [
    "def plot_train_val_history(history):\n",
    "    plt.figure(figsize=(12, 5))\n",
    "    \n",
    "    plt.subplot(1, 2, 1)\n",
    "    plt.title('Loss')\n",
    "    plt.plot(history.history['loss'], label='Train')\n",
    "    plt.plot(history.history['val_loss'], label='Validation')\n",
    "    plt.xlabel('Epochs')\n",
    "    plt.ylabel('Loss')\n",
    "    plt.legend()\n",
    "    \n",
    "    plt.subplot(1, 2, 2)\n",
    "    plt.title('Accuracy')\n",
    "    plt.plot(history.history['accuracy'], label='Train')\n",
    "    plt.plot(history.history['val_accuracy'], label='Validation')\n",
    "    plt.xlabel('Epochs')\n",
    "    plt.ylabel('Accuracy')\n",
    "    plt.legend()\n",
    "    \n",
    "    \n",
    "plot_train_val_history(history)"
   ],
   "metadata": {
    "collapsed": false,
    "ExecuteTime": {
     "end_time": "2024-11-17T13:27:22.327522Z",
     "start_time": "2024-11-17T13:27:22.061022Z"
    }
   },
   "outputs": [
    {
     "data": {
      "text/plain": [
       "<Figure size 1200x500 with 2 Axes>"
      ],
      "image/png": "[encoded data removed]"
     },
     "metadata": {},
     "output_type": "display_data"
    }
   ],
   "execution_count": 88
  },
  {
   "metadata": {
    "ExecuteTime": {
     "end_time": "2024-11-17T13:27:35.365082Z",
     "start_time": "2024-11-17T13:27:34.844975Z"
    }
   },
   "cell_type": "code",
   "source": [
    "def tf_predict(model, X_test):\n",
    "    return np.argmax(model.predict(X_test), axis=1)\n",
    "\n",
    "\n",
    "Y_pred = tf_predict(model, X_test)\n",
    "\n",
    "conf_matrix = tf.math.confusion_matrix(\n",
    "    labels=Y_test,\n",
    "    predictions=Y_pred,\n",
    "    num_classes=CLASSES_COUNT\n",
    ")"
   ],
   "outputs": [
    {
     "name": "stdout",
     "output_type": "stream",
     "text": [
      "\u001B[1m5/5\u001B[0m \u001B[32m━━━━━━━━━━━━━━━━━━━━\u001B[0m\u001B[37m\u001B[0m \u001B[1m0s\u001B[0m 65ms/step\n"
     ]
    }
   ],
   "execution_count": 89
  },
  {
   "metadata": {
    "ExecuteTime": {
     "end_time": "2024-11-17T13:27:37.911112Z",
     "start_time": "2024-11-17T13:27:37.710445Z"
    }
   },
   "cell_type": "code",
   "source": "sns.heatmap(conf_matrix, xticklabels=label_encoder.classes_, yticklabels=label_encoder.classes_, annot=True)",
   "outputs": [
    {
     "data": {
      "text/plain": [
       "<Axes: >"
      ]
     },
     "execution_count": 90,
     "metadata": {},
     "output_type": "execute_result"
    },
    {
     "data": {
      "text/plain": [
       "<Figure size 640x480 with 2 Axes>"
      ],
      "image/png": "[encoded data removed]"
     },
     "metadata": {},
     "output_type": "display_data"
    }
   ],
   "execution_count": 90
  },
  {
   "metadata": {
    "ExecuteTime": {
     "end_time": "2024-11-17T13:27:40.044862Z",
     "start_time": "2024-11-17T13:27:40.031792Z"
    }
   },
   "cell_type": "code",
   "source": [
    "Y_test_str = label_encoder.inverse_transform(Y_test)\n",
    "Y_pred_str = label_encoder.inverse_transform(Y_pred)\n",
    "\n",
    "print(classification_report(Y_test_str, Y_pred_str))"
   ],
   "outputs": [
    {
     "name": "stdout",
     "output_type": "stream",
     "text": [
      "                          precision    recall  f1-score   support\n",
      "\n",
      "                   ATALA       0.95      0.95      0.95        20\n",
      "BANDED ORANGE HELICONIAN       0.89      0.84      0.86        19\n",
      "          BROWN SIPROETA       0.83      1.00      0.91        20\n",
      "                 CRECENT       0.94      0.89      0.92        19\n",
      "          MOURNING CLOAK       1.00      0.88      0.94        26\n",
      "          SCARCE SWALLOW       0.95      1.00      0.98        20\n",
      "           SLEEPY ORANGE       1.00      1.00      1.00        22\n",
      "\n",
      "                accuracy                           0.94       146\n",
      "               macro avg       0.94      0.94      0.94       146\n",
      "            weighted avg       0.94      0.94      0.94       146\n",
      "\n"
     ]
    }
   ],
   "execution_count": 91
  },
  {
   "metadata": {
    "ExecuteTime": {
     "end_time": "2024-11-17T13:25:55.775747Z",
     "start_time": "2024-11-17T13:20:55.905651Z"
    }
   },
   "cell_type": "code",
   "source": [
    "def perform_cross_val(X, Y, label_encoder=label_encoder):\n",
    "    skf = StratifiedKFold()\n",
    "    stats = []\n",
    "    \n",
    "    for train_index, test_index in skf.split(X, Y):\n",
    "        X_train_cv, X_test_cv = X[train_index], X[test_index]\n",
    "        Y_train_cv, Y_test_cv = Y[train_index], Y[test_index]\n",
    "        \n",
    "        X_train_cv, X_test_cv = X_train_cv / 255.0, X_test_cv / 255.0\n",
    "        \n",
    "        model = build_model()\n",
    "        compile_and_fit_model(model, (X_train_cv, Y_train_cv), (X_test_cv, Y_test_cv))\n",
    "        Y_pred_cv = tf_predict(model, X_test_cv)\n",
    "        \n",
    "        results = {\n",
    "            'accuracy': accuracy_score(Y_test_cv, Y_pred_cv),\n",
    "            'precision': precision_score(Y_test_cv, Y_pred_cv, average='weighted'),\n",
    "            'recall': recall_score(Y_test_cv, Y_pred_cv, average='weighted'),\n",
    "            'f1': f1_score(Y_test_cv, Y_pred_cv, average='weighted'),\n",
    "        }\n",
    "    \n",
    "        stats.append(results)\n",
    "    \n",
    "    return stats\n",
    "\n",
    "print(\"Cross-validation results:\")\n",
    "print(perform_cross_val(X, Y))"
   ],
   "outputs": [
    {
     "name": "stdout",
     "output_type": "stream",
     "text": [
      "Cross-validation results:\n"
     ]
    },
    {
     "name": "stderr",
     "output_type": "stream",
     "text": [
      "C:\\Dev_software\\python\\lib\\site-packages\\keras\\src\\layers\\convolutional\\base_conv.py:107: UserWarning: Do not pass an `input_shape`/`input_dim` argument to a layer. When using Sequential models, prefer using an `Input(shape)` object as the first layer in the model instead.\n",
      "  super().__init__(activity_regularizer=activity_regularizer, **kwargs)\n"
     ]
    },
    {
     "name": "stdout",
     "output_type": "stream",
     "text": [
      "Epoch 1/15\n"
     ]
    },
    {
     "name": "stderr",
     "output_type": "stream",
     "text": [
      "C:\\Dev_software\\python\\lib\\site-packages\\keras\\src\\backend\\tensorflow\\nn.py:635: UserWarning: \"`sparse_categorical_crossentropy` received `from_logits=True`, but the `output` argument was produced by a Softmax activation and thus does not represent logits. Was this intended?\n",
      "  output, from_logits = _get_logits(\n"
     ]
    },
    {
     "name": "stdout",
     "output_type": "stream",
     "text": [
      "\u001B[1m19/19\u001B[0m \u001B[32m━━━━━━━━━━━━━━━━━━━━\u001B[0m\u001B[37m\u001B[0m \u001B[1m5s\u001B[0m 194ms/step - accuracy: 0.2633 - loss: 1.8654 - val_accuracy: 0.5685 - val_loss: 1.2165\n",
      "Epoch 2/15\n",
      "\u001B[1m19/19\u001B[0m \u001B[32m━━━━━━━━━━━━━━━━━━━━\u001B[0m\u001B[37m\u001B[0m \u001B[1m4s\u001B[0m 185ms/step - accuracy: 0.5022 - loss: 1.2742 - val_accuracy: 0.7534 - val_loss: 0.8516\n",
      "Epoch 3/15\n",
      "\u001B[1m19/19\u001B[0m \u001B[32m━━━━━━━━━━━━━━━━━━━━\u001B[0m\u001B[37m\u001B[0m \u001B[1m4s\u001B[0m 183ms/step - accuracy: 0.7112 - loss: 0.8139 - val_accuracy: 0.8425 - val_loss: 0.4605\n",
      "Epoch 4/15\n",
      "\u001B[1m19/19\u001B[0m \u001B[32m━━━━━━━━━━━━━━━━━━━━\u001B[0m\u001B[37m\u001B[0m \u001B[1m4s\u001B[0m 189ms/step - accuracy: 0.8291 - loss: 0.4767 - val_accuracy: 0.7808 - val_loss: 0.6451\n",
      "Epoch 5/15\n",
      "\u001B[1m19/19\u001B[0m \u001B[32m━━━━━━━━━━━━━━━━━━━━\u001B[0m\u001B[37m\u001B[0m \u001B[1m4s\u001B[0m 186ms/step - accuracy: 0.8181 - loss: 0.4920 - val_accuracy: 0.8767 - val_loss: 0.3727\n",
      "Epoch 6/15\n",
      "\u001B[1m19/19\u001B[0m \u001B[32m━━━━━━━━━━━━━━━━━━━━\u001B[0m\u001B[37m\u001B[0m \u001B[1m4s\u001B[0m 182ms/step - accuracy: 0.8834 - loss: 0.3061 - val_accuracy: 0.9247 - val_loss: 0.2817\n",
      "Epoch 7/15\n",
      "\u001B[1m19/19\u001B[0m \u001B[32m━━━━━━━━━━━━━━━━━━━━\u001B[0m\u001B[37m\u001B[0m \u001B[1m4s\u001B[0m 185ms/step - accuracy: 0.9531 - loss: 0.1928 - val_accuracy: 0.9315 - val_loss: 0.2420\n",
      "Epoch 8/15\n",
      "\u001B[1m19/19\u001B[0m \u001B[32m━━━━━━━━━━━━━━━━━━━━\u001B[0m\u001B[37m\u001B[0m \u001B[1m4s\u001B[0m 186ms/step - accuracy: 0.9422 - loss: 0.1871 - val_accuracy: 0.9384 - val_loss: 0.1813\n",
      "Epoch 9/15\n",
      "\u001B[1m19/19\u001B[0m \u001B[32m━━━━━━━━━━━━━━━━━━━━\u001B[0m\u001B[37m\u001B[0m \u001B[1m4s\u001B[0m 185ms/step - accuracy: 0.9610 - loss: 0.1187 - val_accuracy: 0.9384 - val_loss: 0.1865\n",
      "Epoch 10/15\n",
      "\u001B[1m19/19\u001B[0m \u001B[32m━━━━━━━━━━━━━━━━━━━━\u001B[0m\u001B[37m\u001B[0m \u001B[1m4s\u001B[0m 186ms/step - accuracy: 0.9726 - loss: 0.0816 - val_accuracy: 0.9589 - val_loss: 0.1439\n",
      "Epoch 11/15\n",
      "\u001B[1m19/19\u001B[0m \u001B[32m━━━━━━━━━━━━━━━━━━━━\u001B[0m\u001B[37m\u001B[0m \u001B[1m4s\u001B[0m 190ms/step - accuracy: 0.9687 - loss: 0.0799 - val_accuracy: 0.9658 - val_loss: 0.1274\n",
      "Epoch 12/15\n",
      "\u001B[1m19/19\u001B[0m \u001B[32m━━━━━━━━━━━━━━━━━━━━\u001B[0m\u001B[37m\u001B[0m \u001B[1m4s\u001B[0m 191ms/step - accuracy: 0.9872 - loss: 0.0472 - val_accuracy: 0.9658 - val_loss: 0.1599\n",
      "Epoch 13/15\n",
      "\u001B[1m19/19\u001B[0m \u001B[32m━━━━━━━━━━━━━━━━━━━━\u001B[0m\u001B[37m\u001B[0m \u001B[1m4s\u001B[0m 192ms/step - accuracy: 0.9967 - loss: 0.0332 - val_accuracy: 0.9589 - val_loss: 0.0979\n",
      "Epoch 14/15\n",
      "\u001B[1m19/19\u001B[0m \u001B[32m━━━━━━━━━━━━━━━━━━━━\u001B[0m\u001B[37m\u001B[0m \u001B[1m4s\u001B[0m 198ms/step - accuracy: 0.9977 - loss: 0.0201 - val_accuracy: 0.9726 - val_loss: 0.0765\n",
      "Epoch 15/15\n",
      "\u001B[1m19/19\u001B[0m \u001B[32m━━━━━━━━━━━━━━━━━━━━\u001B[0m\u001B[37m\u001B[0m \u001B[1m4s\u001B[0m 193ms/step - accuracy: 0.9944 - loss: 0.0217 - val_accuracy: 0.9658 - val_loss: 0.0936\n",
      "\u001B[1m5/5\u001B[0m \u001B[32m━━━━━━━━━━━━━━━━━━━━\u001B[0m\u001B[37m\u001B[0m \u001B[1m0s\u001B[0m 70ms/step\n"
     ]
    },
    {
     "name": "stderr",
     "output_type": "stream",
     "text": [
      "C:\\Dev_software\\python\\lib\\site-packages\\keras\\src\\layers\\convolutional\\base_conv.py:107: UserWarning: Do not pass an `input_shape`/`input_dim` argument to a layer. When using Sequential models, prefer using an `Input(shape)` object as the first layer in the model instead.\n",
      "  super().__init__(activity_regularizer=activity_regularizer, **kwargs)\n"
     ]
    },
    {
     "name": "stdout",
     "output_type": "stream",
     "text": [
      "Epoch 1/15\n"
     ]
    },
    {
     "name": "stderr",
     "output_type": "stream",
     "text": [
      "C:\\Dev_software\\python\\lib\\site-packages\\keras\\src\\backend\\tensorflow\\nn.py:635: UserWarning: \"`sparse_categorical_crossentropy` received `from_logits=True`, but the `output` argument was produced by a Softmax activation and thus does not represent logits. Was this intended?\n",
      "  output, from_logits = _get_logits(\n"
     ]
    },
    {
     "name": "stdout",
     "output_type": "stream",
     "text": [
      "\u001B[1m19/19\u001B[0m \u001B[32m━━━━━━━━━━━━━━━━━━━━\u001B[0m\u001B[37m\u001B[0m \u001B[1m6s\u001B[0m 202ms/step - accuracy: 0.2313 - loss: 1.9336 - val_accuracy: 0.4589 - val_loss: 1.5649\n",
      "Epoch 2/15\n",
      "\u001B[1m19/19\u001B[0m \u001B[32m━━━━━━━━━━━━━━━━━━━━\u001B[0m\u001B[37m\u001B[0m \u001B[1m4s\u001B[0m 188ms/step - accuracy: 0.5473 - loss: 1.3069 - val_accuracy: 0.7808 - val_loss: 0.7232\n",
      "Epoch 3/15\n",
      "\u001B[1m19/19\u001B[0m \u001B[32m━━━━━━━━━━━━━━━━━━━━\u001B[0m\u001B[37m\u001B[0m \u001B[1m4s\u001B[0m 192ms/step - accuracy: 0.7748 - loss: 0.5954 - val_accuracy: 0.8151 - val_loss: 0.4929\n",
      "Epoch 4/15\n",
      "\u001B[1m19/19\u001B[0m \u001B[32m━━━━━━━━━━━━━━━━━━━━\u001B[0m\u001B[37m\u001B[0m \u001B[1m4s\u001B[0m 205ms/step - accuracy: 0.7870 - loss: 0.5726 - val_accuracy: 0.8082 - val_loss: 0.4441\n",
      "Epoch 5/15\n",
      "\u001B[1m19/19\u001B[0m \u001B[32m━━━━━━━━━━━━━━━━━━━━\u001B[0m\u001B[37m\u001B[0m \u001B[1m4s\u001B[0m 198ms/step - accuracy: 0.8819 - loss: 0.4070 - val_accuracy: 0.9178 - val_loss: 0.2779\n",
      "Epoch 6/15\n",
      "\u001B[1m19/19\u001B[0m \u001B[32m━━━━━━━━━━━━━━━━━━━━\u001B[0m\u001B[37m\u001B[0m \u001B[1m4s\u001B[0m 204ms/step - accuracy: 0.9008 - loss: 0.2569 - val_accuracy: 0.9041 - val_loss: 0.2838\n",
      "Epoch 7/15\n",
      "\u001B[1m19/19\u001B[0m \u001B[32m━━━━━━━━━━━━━━━━━━━━\u001B[0m\u001B[37m\u001B[0m \u001B[1m4s\u001B[0m 200ms/step - accuracy: 0.9352 - loss: 0.1933 - val_accuracy: 0.9452 - val_loss: 0.2067\n",
      "Epoch 8/15\n",
      "\u001B[1m19/19\u001B[0m \u001B[32m━━━━━━━━━━━━━━━━━━━━\u001B[0m\u001B[37m\u001B[0m \u001B[1m4s\u001B[0m 202ms/step - accuracy: 0.9619 - loss: 0.1438 - val_accuracy: 0.9452 - val_loss: 0.1760\n",
      "Epoch 9/15\n",
      "\u001B[1m19/19\u001B[0m \u001B[32m━━━━━━━━━━━━━━━━━━━━\u001B[0m\u001B[37m\u001B[0m \u001B[1m4s\u001B[0m 200ms/step - accuracy: 0.9767 - loss: 0.0827 - val_accuracy: 0.9658 - val_loss: 0.1690\n",
      "Epoch 10/15\n",
      "\u001B[1m19/19\u001B[0m \u001B[32m━━━━━━━━━━━━━━━━━━━━\u001B[0m\u001B[37m\u001B[0m \u001B[1m4s\u001B[0m 197ms/step - accuracy: 0.9950 - loss: 0.0458 - val_accuracy: 0.9658 - val_loss: 0.2108\n",
      "Epoch 11/15\n",
      "\u001B[1m19/19\u001B[0m \u001B[32m━━━━━━━━━━━━━━━━━━━━\u001B[0m\u001B[37m\u001B[0m \u001B[1m4s\u001B[0m 202ms/step - accuracy: 0.9821 - loss: 0.0579 - val_accuracy: 0.9315 - val_loss: 0.2915\n",
      "Epoch 12/15\n",
      "\u001B[1m19/19\u001B[0m \u001B[32m━━━━━━━━━━━━━━━━━━━━\u001B[0m\u001B[37m\u001B[0m \u001B[1m4s\u001B[0m 205ms/step - accuracy: 0.9831 - loss: 0.0548 - val_accuracy: 0.9452 - val_loss: 0.2316\n",
      "Epoch 13/15\n",
      "\u001B[1m19/19\u001B[0m \u001B[32m━━━━━━━━━━━━━━━━━━━━\u001B[0m\u001B[37m\u001B[0m \u001B[1m4s\u001B[0m 212ms/step - accuracy: 0.9865 - loss: 0.0494 - val_accuracy: 0.9658 - val_loss: 0.1849\n",
      "Epoch 14/15\n",
      "\u001B[1m19/19\u001B[0m \u001B[32m━━━━━━━━━━━━━━━━━━━━\u001B[0m\u001B[37m\u001B[0m \u001B[1m4s\u001B[0m 206ms/step - accuracy: 0.9820 - loss: 0.0542 - val_accuracy: 0.9658 - val_loss: 0.2050\n",
      "Epoch 15/15\n",
      "\u001B[1m19/19\u001B[0m \u001B[32m━━━━━━━━━━━━━━━━━━━━\u001B[0m\u001B[37m\u001B[0m \u001B[1m4s\u001B[0m 197ms/step - accuracy: 0.9734 - loss: 0.0668 - val_accuracy: 0.9589 - val_loss: 0.2021\n",
      "\u001B[1m5/5\u001B[0m \u001B[32m━━━━━━━━━━━━━━━━━━━━\u001B[0m\u001B[37m\u001B[0m \u001B[1m0s\u001B[0m 66ms/step\n"
     ]
    },
    {
     "name": "stderr",
     "output_type": "stream",
     "text": [
      "C:\\Dev_software\\python\\lib\\site-packages\\keras\\src\\layers\\convolutional\\base_conv.py:107: UserWarning: Do not pass an `input_shape`/`input_dim` argument to a layer. When using Sequential models, prefer using an `Input(shape)` object as the first layer in the model instead.\n",
      "  super().__init__(activity_regularizer=activity_regularizer, **kwargs)\n"
     ]
    },
    {
     "name": "stdout",
     "output_type": "stream",
     "text": [
      "Epoch 1/15\n"
     ]
    },
    {
     "name": "stderr",
     "output_type": "stream",
     "text": [
      "C:\\Dev_software\\python\\lib\\site-packages\\keras\\src\\backend\\tensorflow\\nn.py:635: UserWarning: \"`sparse_categorical_crossentropy` received `from_logits=True`, but the `output` argument was produced by a Softmax activation and thus does not represent logits. Was this intended?\n",
      "  output, from_logits = _get_logits(\n"
     ]
    },
    {
     "name": "stdout",
     "output_type": "stream",
     "text": [
      "\u001B[1m19/19\u001B[0m \u001B[32m━━━━━━━━━━━━━━━━━━━━\u001B[0m\u001B[37m\u001B[0m \u001B[1m5s\u001B[0m 217ms/step - accuracy: 0.2239 - loss: 1.9139 - val_accuracy: 0.5274 - val_loss: 1.3611\n",
      "Epoch 2/15\n",
      "\u001B[1m19/19\u001B[0m \u001B[32m━━━━━━━━━━━━━━━━━━━━\u001B[0m\u001B[37m\u001B[0m \u001B[1m4s\u001B[0m 219ms/step - accuracy: 0.5935 - loss: 1.1962 - val_accuracy: 0.5959 - val_loss: 1.0835\n",
      "Epoch 3/15\n",
      "\u001B[1m19/19\u001B[0m \u001B[32m━━━━━━━━━━━━━━━━━━━━\u001B[0m\u001B[37m\u001B[0m \u001B[1m4s\u001B[0m 234ms/step - accuracy: 0.7062 - loss: 0.8855 - val_accuracy: 0.8767 - val_loss: 0.4717\n",
      "Epoch 4/15\n",
      "\u001B[1m19/19\u001B[0m \u001B[32m━━━━━━━━━━━━━━━━━━━━\u001B[0m\u001B[37m\u001B[0m \u001B[1m4s\u001B[0m 206ms/step - accuracy: 0.8156 - loss: 0.5317 - val_accuracy: 0.9178 - val_loss: 0.2710\n",
      "Epoch 5/15\n",
      "\u001B[1m19/19\u001B[0m \u001B[32m━━━━━━━━━━━━━━━━━━━━\u001B[0m\u001B[37m\u001B[0m \u001B[1m4s\u001B[0m 199ms/step - accuracy: 0.8617 - loss: 0.3515 - val_accuracy: 0.9247 - val_loss: 0.2140\n",
      "Epoch 6/15\n",
      "\u001B[1m19/19\u001B[0m \u001B[32m━━━━━━━━━━━━━━━━━━━━\u001B[0m\u001B[37m\u001B[0m \u001B[1m4s\u001B[0m 193ms/step - accuracy: 0.9054 - loss: 0.2579 - val_accuracy: 0.9452 - val_loss: 0.1534\n",
      "Epoch 7/15\n",
      "\u001B[1m19/19\u001B[0m \u001B[32m━━━━━━━━━━━━━━━━━━━━\u001B[0m\u001B[37m\u001B[0m \u001B[1m4s\u001B[0m 195ms/step - accuracy: 0.9434 - loss: 0.1746 - val_accuracy: 0.9521 - val_loss: 0.1235\n",
      "Epoch 8/15\n",
      "\u001B[1m19/19\u001B[0m \u001B[32m━━━━━━━━━━━━━━━━━━━━\u001B[0m\u001B[37m\u001B[0m \u001B[1m4s\u001B[0m 194ms/step - accuracy: 0.9161 - loss: 0.2355 - val_accuracy: 0.9110 - val_loss: 0.2470\n",
      "Epoch 9/15\n",
      "\u001B[1m19/19\u001B[0m \u001B[32m━━━━━━━━━━━━━━━━━━━━\u001B[0m\u001B[37m\u001B[0m \u001B[1m4s\u001B[0m 195ms/step - accuracy: 0.9420 - loss: 0.1507 - val_accuracy: 0.9795 - val_loss: 0.0762\n",
      "Epoch 10/15\n",
      "\u001B[1m19/19\u001B[0m \u001B[32m━━━━━━━━━━━━━━━━━━━━\u001B[0m\u001B[37m\u001B[0m \u001B[1m4s\u001B[0m 198ms/step - accuracy: 0.9845 - loss: 0.0700 - val_accuracy: 0.9726 - val_loss: 0.0799\n",
      "Epoch 11/15\n",
      "\u001B[1m19/19\u001B[0m \u001B[32m━━━━━━━━━━━━━━━━━━━━\u001B[0m\u001B[37m\u001B[0m \u001B[1m4s\u001B[0m 197ms/step - accuracy: 0.9925 - loss: 0.0405 - val_accuracy: 0.9795 - val_loss: 0.0859\n",
      "Epoch 12/15\n",
      "\u001B[1m19/19\u001B[0m \u001B[32m━━━━━━━━━━━━━━━━━━━━\u001B[0m\u001B[37m\u001B[0m \u001B[1m4s\u001B[0m 201ms/step - accuracy: 0.9888 - loss: 0.0432 - val_accuracy: 0.9795 - val_loss: 0.0472\n",
      "Epoch 13/15\n",
      "\u001B[1m19/19\u001B[0m \u001B[32m━━━━━━━━━━━━━━━━━━━━\u001B[0m\u001B[37m\u001B[0m \u001B[1m4s\u001B[0m 197ms/step - accuracy: 1.0000 - loss: 0.0132 - val_accuracy: 0.9795 - val_loss: 0.0446\n",
      "Epoch 14/15\n",
      "\u001B[1m19/19\u001B[0m \u001B[32m━━━━━━━━━━━━━━━━━━━━\u001B[0m\u001B[37m\u001B[0m \u001B[1m4s\u001B[0m 198ms/step - accuracy: 1.0000 - loss: 0.0233 - val_accuracy: 0.9863 - val_loss: 0.0450\n",
      "Epoch 15/15\n",
      "\u001B[1m19/19\u001B[0m \u001B[32m━━━━━━━━━━━━━━━━━━━━\u001B[0m\u001B[37m\u001B[0m \u001B[1m4s\u001B[0m 200ms/step - accuracy: 0.9926 - loss: 0.0149 - val_accuracy: 0.9863 - val_loss: 0.0408\n",
      "\u001B[1m5/5\u001B[0m \u001B[32m━━━━━━━━━━━━━━━━━━━━\u001B[0m\u001B[37m\u001B[0m \u001B[1m0s\u001B[0m 67ms/step\n"
     ]
    },
    {
     "name": "stderr",
     "output_type": "stream",
     "text": [
      "C:\\Dev_software\\python\\lib\\site-packages\\keras\\src\\layers\\convolutional\\base_conv.py:107: UserWarning: Do not pass an `input_shape`/`input_dim` argument to a layer. When using Sequential models, prefer using an `Input(shape)` object as the first layer in the model instead.\n",
      "  super().__init__(activity_regularizer=activity_regularizer, **kwargs)\n"
     ]
    },
    {
     "name": "stdout",
     "output_type": "stream",
     "text": [
      "Epoch 1/15\n"
     ]
    },
    {
     "name": "stderr",
     "output_type": "stream",
     "text": [
      "C:\\Dev_software\\python\\lib\\site-packages\\keras\\src\\backend\\tensorflow\\nn.py:635: UserWarning: \"`sparse_categorical_crossentropy` received `from_logits=True`, but the `output` argument was produced by a Softmax activation and thus does not represent logits. Was this intended?\n",
      "  output, from_logits = _get_logits(\n"
     ]
    },
    {
     "name": "stdout",
     "output_type": "stream",
     "text": [
      "\u001B[1m19/19\u001B[0m \u001B[32m━━━━━━━━━━━━━━━━━━━━\u001B[0m\u001B[37m\u001B[0m \u001B[1m5s\u001B[0m 207ms/step - accuracy: 0.2607 - loss: 1.8284 - val_accuracy: 0.4138 - val_loss: 1.3858\n",
      "Epoch 2/15\n",
      "\u001B[1m19/19\u001B[0m \u001B[32m━━━━━━━━━━━━━━━━━━━━\u001B[0m\u001B[37m\u001B[0m \u001B[1m4s\u001B[0m 201ms/step - accuracy: 0.5825 - loss: 1.0866 - val_accuracy: 0.7793 - val_loss: 0.6676\n",
      "Epoch 3/15\n",
      "\u001B[1m19/19\u001B[0m \u001B[32m━━━━━━━━━━━━━━━━━━━━\u001B[0m\u001B[37m\u001B[0m \u001B[1m4s\u001B[0m 193ms/step - accuracy: 0.7531 - loss: 0.7063 - val_accuracy: 0.8000 - val_loss: 0.5185\n",
      "Epoch 4/15\n",
      "\u001B[1m19/19\u001B[0m \u001B[32m━━━━━━━━━━━━━━━━━━━━\u001B[0m\u001B[37m\u001B[0m \u001B[1m4s\u001B[0m 193ms/step - accuracy: 0.8408 - loss: 0.4695 - val_accuracy: 0.8552 - val_loss: 0.3412\n",
      "Epoch 5/15\n",
      "\u001B[1m19/19\u001B[0m \u001B[32m━━━━━━━━━━━━━━━━━━━━\u001B[0m\u001B[37m\u001B[0m \u001B[1m4s\u001B[0m 193ms/step - accuracy: 0.8875 - loss: 0.2970 - val_accuracy: 0.9172 - val_loss: 0.3031\n",
      "Epoch 6/15\n",
      "\u001B[1m19/19\u001B[0m \u001B[32m━━━━━━━━━━━━━━━━━━━━\u001B[0m\u001B[37m\u001B[0m \u001B[1m4s\u001B[0m 190ms/step - accuracy: 0.9173 - loss: 0.2443 - val_accuracy: 0.9724 - val_loss: 0.1307\n",
      "Epoch 7/15\n",
      "\u001B[1m19/19\u001B[0m \u001B[32m━━━━━━━━━━━━━━━━━━━━\u001B[0m\u001B[37m\u001B[0m \u001B[1m4s\u001B[0m 212ms/step - accuracy: 0.9444 - loss: 0.1573 - val_accuracy: 0.9586 - val_loss: 0.1090\n",
      "Epoch 8/15\n",
      "\u001B[1m19/19\u001B[0m \u001B[32m━━━━━━━━━━━━━━━━━━━━\u001B[0m\u001B[37m\u001B[0m \u001B[1m4s\u001B[0m 213ms/step - accuracy: 0.9569 - loss: 0.1411 - val_accuracy: 0.9172 - val_loss: 0.1968\n",
      "Epoch 9/15\n",
      "\u001B[1m19/19\u001B[0m \u001B[32m━━━━━━━━━━━━━━━━━━━━\u001B[0m\u001B[37m\u001B[0m \u001B[1m4s\u001B[0m 226ms/step - accuracy: 0.9551 - loss: 0.1167 - val_accuracy: 0.9862 - val_loss: 0.0695\n",
      "Epoch 10/15\n",
      "\u001B[1m19/19\u001B[0m \u001B[32m━━━━━━━━━━━━━━━━━━━━\u001B[0m\u001B[37m\u001B[0m \u001B[1m4s\u001B[0m 209ms/step - accuracy: 0.9893 - loss: 0.0486 - val_accuracy: 0.9862 - val_loss: 0.0962\n",
      "Epoch 11/15\n",
      "\u001B[1m19/19\u001B[0m \u001B[32m━━━━━━━━━━━━━━━━━━━━\u001B[0m\u001B[37m\u001B[0m \u001B[1m4s\u001B[0m 204ms/step - accuracy: 0.9854 - loss: 0.0554 - val_accuracy: 0.9793 - val_loss: 0.0853\n",
      "Epoch 12/15\n",
      "\u001B[1m19/19\u001B[0m \u001B[32m━━━━━━━━━━━━━━━━━━━━\u001B[0m\u001B[37m\u001B[0m \u001B[1m4s\u001B[0m 206ms/step - accuracy: 0.9907 - loss: 0.0461 - val_accuracy: 0.9655 - val_loss: 0.1115\n",
      "Epoch 13/15\n",
      "\u001B[1m19/19\u001B[0m \u001B[32m━━━━━━━━━━━━━━━━━━━━\u001B[0m\u001B[37m\u001B[0m \u001B[1m4s\u001B[0m 201ms/step - accuracy: 0.9864 - loss: 0.0409 - val_accuracy: 0.9862 - val_loss: 0.0595\n",
      "Epoch 14/15\n",
      "\u001B[1m19/19\u001B[0m \u001B[32m━━━━━━━━━━━━━━━━━━━━\u001B[0m\u001B[37m\u001B[0m \u001B[1m4s\u001B[0m 202ms/step - accuracy: 0.9888 - loss: 0.0321 - val_accuracy: 0.9586 - val_loss: 0.1462\n",
      "Epoch 15/15\n",
      "\u001B[1m19/19\u001B[0m \u001B[32m━━━━━━━━━━━━━━━━━━━━\u001B[0m\u001B[37m\u001B[0m \u001B[1m4s\u001B[0m 200ms/step - accuracy: 0.9760 - loss: 0.0620 - val_accuracy: 0.9655 - val_loss: 0.1143\n",
      "\u001B[1m5/5\u001B[0m \u001B[32m━━━━━━━━━━━━━━━━━━━━\u001B[0m\u001B[37m\u001B[0m \u001B[1m0s\u001B[0m 75ms/step\n"
     ]
    },
    {
     "name": "stderr",
     "output_type": "stream",
     "text": [
      "C:\\Dev_software\\python\\lib\\site-packages\\keras\\src\\layers\\convolutional\\base_conv.py:107: UserWarning: Do not pass an `input_shape`/`input_dim` argument to a layer. When using Sequential models, prefer using an `Input(shape)` object as the first layer in the model instead.\n",
      "  super().__init__(activity_regularizer=activity_regularizer, **kwargs)\n"
     ]
    },
    {
     "name": "stdout",
     "output_type": "stream",
     "text": [
      "Epoch 1/15\n"
     ]
    },
    {
     "name": "stderr",
     "output_type": "stream",
     "text": [
      "C:\\Dev_software\\python\\lib\\site-packages\\keras\\src\\backend\\tensorflow\\nn.py:635: UserWarning: \"`sparse_categorical_crossentropy` received `from_logits=True`, but the `output` argument was produced by a Softmax activation and thus does not represent logits. Was this intended?\n",
      "  output, from_logits = _get_logits(\n"
     ]
    },
    {
     "name": "stdout",
     "output_type": "stream",
     "text": [
      "\u001B[1m19/19\u001B[0m \u001B[32m━━━━━━━━━━━━━━━━━━━━\u001B[0m\u001B[37m\u001B[0m \u001B[1m5s\u001B[0m 207ms/step - accuracy: 0.2506 - loss: 1.8656 - val_accuracy: 0.3448 - val_loss: 1.6244\n",
      "Epoch 2/15\n",
      "\u001B[1m19/19\u001B[0m \u001B[32m━━━━━━━━━━━━━━━━━━━━\u001B[0m\u001B[37m\u001B[0m \u001B[1m4s\u001B[0m 199ms/step - accuracy: 0.5577 - loss: 1.2370 - val_accuracy: 0.7448 - val_loss: 0.7297\n",
      "Epoch 3/15\n",
      "\u001B[1m19/19\u001B[0m \u001B[32m━━━━━━━━━━━━━━━━━━━━\u001B[0m\u001B[37m\u001B[0m \u001B[1m4s\u001B[0m 193ms/step - accuracy: 0.6801 - loss: 0.7639 - val_accuracy: 0.7448 - val_loss: 0.6486\n",
      "Epoch 4/15\n",
      "\u001B[1m19/19\u001B[0m \u001B[32m━━━━━━━━━━━━━━━━━━━━\u001B[0m\u001B[37m\u001B[0m \u001B[1m4s\u001B[0m 191ms/step - accuracy: 0.7741 - loss: 0.5719 - val_accuracy: 0.8276 - val_loss: 0.4923\n",
      "Epoch 5/15\n",
      "\u001B[1m19/19\u001B[0m \u001B[32m━━━━━━━━━━━━━━━━━━━━\u001B[0m\u001B[37m\u001B[0m \u001B[1m4s\u001B[0m 191ms/step - accuracy: 0.8486 - loss: 0.4039 - val_accuracy: 0.9241 - val_loss: 0.2474\n",
      "Epoch 6/15\n",
      "\u001B[1m19/19\u001B[0m \u001B[32m━━━━━━━━━━━━━━━━━━━━\u001B[0m\u001B[37m\u001B[0m \u001B[1m4s\u001B[0m 191ms/step - accuracy: 0.9141 - loss: 0.2559 - val_accuracy: 0.9448 - val_loss: 0.1845\n",
      "Epoch 7/15\n",
      "\u001B[1m19/19\u001B[0m \u001B[32m━━━━━━━━━━━━━━━━━━━━\u001B[0m\u001B[37m\u001B[0m \u001B[1m4s\u001B[0m 189ms/step - accuracy: 0.9428 - loss: 0.1850 - val_accuracy: 0.9862 - val_loss: 0.0984\n",
      "Epoch 8/15\n",
      "\u001B[1m19/19\u001B[0m \u001B[32m━━━━━━━━━━━━━━━━━━━━\u001B[0m\u001B[37m\u001B[0m \u001B[1m4s\u001B[0m 193ms/step - accuracy: 0.9754 - loss: 0.1056 - val_accuracy: 0.9655 - val_loss: 0.1171\n",
      "Epoch 9/15\n",
      "\u001B[1m19/19\u001B[0m \u001B[32m━━━━━━━━━━━━━━━━━━━━\u001B[0m\u001B[37m\u001B[0m \u001B[1m4s\u001B[0m 189ms/step - accuracy: 0.9867 - loss: 0.0653 - val_accuracy: 0.9793 - val_loss: 0.0590\n",
      "Epoch 10/15\n",
      "\u001B[1m19/19\u001B[0m \u001B[32m━━━━━━━━━━━━━━━━━━━━\u001B[0m\u001B[37m\u001B[0m \u001B[1m4s\u001B[0m 200ms/step - accuracy: 0.9995 - loss: 0.0261 - val_accuracy: 0.9931 - val_loss: 0.0307\n",
      "Epoch 11/15\n",
      "\u001B[1m19/19\u001B[0m \u001B[32m━━━━━━━━━━━━━━━━━━━━\u001B[0m\u001B[37m\u001B[0m \u001B[1m4s\u001B[0m 197ms/step - accuracy: 0.9956 - loss: 0.0243 - val_accuracy: 0.9862 - val_loss: 0.0349\n",
      "Epoch 12/15\n",
      "\u001B[1m19/19\u001B[0m \u001B[32m━━━━━━━━━━━━━━━━━━━━\u001B[0m\u001B[37m\u001B[0m \u001B[1m4s\u001B[0m 198ms/step - accuracy: 0.9929 - loss: 0.0245 - val_accuracy: 0.9862 - val_loss: 0.0465\n",
      "Epoch 13/15\n",
      "\u001B[1m19/19\u001B[0m \u001B[32m━━━━━━━━━━━━━━━━━━━━\u001B[0m\u001B[37m\u001B[0m \u001B[1m4s\u001B[0m 204ms/step - accuracy: 0.9996 - loss: 0.0160 - val_accuracy: 0.9310 - val_loss: 0.1451\n",
      "Epoch 14/15\n",
      "\u001B[1m19/19\u001B[0m \u001B[32m━━━━━━━━━━━━━━━━━━━━\u001B[0m\u001B[37m\u001B[0m \u001B[1m4s\u001B[0m 198ms/step - accuracy: 0.9800 - loss: 0.0482 - val_accuracy: 0.9793 - val_loss: 0.0600\n",
      "Epoch 15/15\n",
      "\u001B[1m19/19\u001B[0m \u001B[32m━━━━━━━━━━━━━━━━━━━━\u001B[0m\u001B[37m\u001B[0m \u001B[1m4s\u001B[0m 197ms/step - accuracy: 0.9901 - loss: 0.0464 - val_accuracy: 0.9793 - val_loss: 0.0741\n",
      "\u001B[1m5/5\u001B[0m \u001B[32m━━━━━━━━━━━━━━━━━━━━\u001B[0m\u001B[37m\u001B[0m \u001B[1m0s\u001B[0m 65ms/step\n",
      "[{'accuracy': 0.9657534246575342, 'precision': 0.9674005218525766, 'recall': 0.9657534246575342, 'f1': 0.9659758748699612}, {'accuracy': 0.958904109589041, 'precision': 0.9623435924805788, 'recall': 0.958904109589041, 'f1': 0.958822049984763}, {'accuracy': 0.9863013698630136, 'precision': 0.9869536855838226, 'recall': 0.9863013698630136, 'f1': 0.986317747947826}, {'accuracy': 0.9655172413793104, 'precision': 0.9683982683982683, 'recall': 0.9655172413793104, 'f1': 0.965543412847089}, {'accuracy': 0.9793103448275862, 'precision': 0.9809688013136288, 'recall': 0.9793103448275862, 'f1': 0.9794735584390757}]\n"
     ]
    }
   ],
   "execution_count": 86
  },
  {
   "metadata": {},
   "cell_type": "code",
   "outputs": [],
   "execution_count": null,
   "source": ""
  }
 ],
 "metadata": {
  "kernelspec": {
   "display_name": "Python 3 (ipykernel)",
   "language": "python",
   "name": "python3"
  },
  "language_info": {
   "codemirror_mode": {
    "name": "ipython",
    "version": 3
   },
   "file_extension": ".py",
   "mimetype": "text/x-python",
   "name": "python",
   "nbconvert_exporter": "python",
   "pygments_lexer": "ipython3",
   "version": "3.10.7"
  }
 },
 "nbformat": 4,
 "nbformat_minor": 4
}
